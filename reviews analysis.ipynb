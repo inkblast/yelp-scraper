{
 "cells": [
  {
   "cell_type": "code",
   "execution_count": 3,
   "id": "86648835",
   "metadata": {},
   "outputs": [],
   "source": [
    "import numpy as np\n",
    "import pandas as pd\n",
    "from pandas import Series,DataFrame\n",
    "#import manage_database\n",
    "import sqlite3\n",
    "import pyodbc as odbc\n",
    "import sys\n",
    "\n",
    "import matplotlib.pyplot as plt\n",
    "from sklearn.linear_model import LinearRegression\n",
    "\n",
    "\n",
    "\n",
    "try:\n",
    "    conn = odbc.connect('Driver={SQL Server};'\n",
    "                              'Server=;LAPTOP-V2DHN538;'\n",
    "                              'Database=resturents;'\n",
    "                              'Trusted_Connection=yes;',autocommit=True)\n",
    "except Exception as e:\n",
    "    print(e)\n",
    "    print(\"task is terminated\")\n",
    "    sys.exit()\n",
    "else:\n",
    "    cursor = conn.cursor()\n",
    "     \n",
    "\n",
    "\n",
    "\n",
    "\n",
    "\n"
   ]
  },
  {
   "cell_type": "code",
   "execution_count": 11,
   "id": "20042236",
   "metadata": {},
   "outputs": [
    {
     "name": "stdout",
     "output_type": "stream",
     "text": [
      "['aaa', 'abc', 'AbeLouies', 'CaféSusubySuitsupply', 'Carmelinas', 'FogodeChão', 'KantipurCafe', 'MSreplication_options', 'Ostra', 'SaltieGirl', 'spt_fallback_db', 'spt_fallback_dev', 'spt_fallback_usg', 'spt_monitor', 'Tanám', 'Toro', 'xx', 'xxx', 'trace_xe_action_map', 'trace_xe_event_map']\n"
     ]
    }
   ],
   "source": []
  },
  {
   "cell_type": "code",
   "execution_count": 8,
   "id": "7f7885cc",
   "metadata": {},
   "outputs": [
    {
     "name": "stdout",
     "output_type": "stream",
     "text": [
      "CaféSusubySuitsupply\n",
      "          rate\n",
      "count  40.0000\n",
      "mean    4.6000\n",
      "std     0.7779\n",
      "min     2.0000\n",
      "25%     4.7500\n",
      "50%     5.0000\n",
      "75%     5.0000\n",
      "max     5.0000\n",
      "\n",
      "Carmelinas\n",
      "            rate\n",
      "count  10.000000\n",
      "mean    4.700000\n",
      "std     0.674949\n",
      "min     3.000000\n",
      "25%     5.000000\n",
      "50%     5.000000\n",
      "75%     5.000000\n",
      "max     5.000000\n",
      "\n",
      "FogodeChão\n",
      "            rate\n",
      "count  60.000000\n",
      "mean    4.500000\n",
      "std     0.929735\n",
      "min     1.000000\n",
      "25%     4.000000\n",
      "50%     5.000000\n",
      "75%     5.000000\n",
      "max     5.000000\n",
      "\n",
      "KantipurCafe\n",
      "            rate\n",
      "count  20.000000\n",
      "mean    4.750000\n",
      "std     0.638666\n",
      "min     3.000000\n",
      "25%     5.000000\n",
      "50%     5.000000\n",
      "75%     5.000000\n",
      "max     5.000000\n",
      "\n",
      "Ostra\n",
      "            rate\n",
      "count  50.000000\n",
      "mean    4.560000\n",
      "std     0.836904\n",
      "min     2.000000\n",
      "25%     4.250000\n",
      "50%     5.000000\n",
      "75%     5.000000\n",
      "max     5.000000\n",
      "\n",
      "SaltieGirl\n",
      "            rate\n",
      "count  80.000000\n",
      "mean    4.412500\n",
      "std     0.989742\n",
      "min     1.000000\n",
      "25%     4.000000\n",
      "50%     5.000000\n",
      "75%     5.000000\n",
      "max     5.000000\n",
      "\n",
      "Tanám\n",
      "            rate\n",
      "count  30.000000\n",
      "mean    4.533333\n",
      "std     0.819307\n",
      "min     2.000000\n",
      "25%     4.000000\n",
      "50%     5.000000\n",
      "75%     5.000000\n",
      "max     5.000000\n",
      "\n",
      "Toro\n",
      "            rate\n",
      "count  90.000000\n",
      "mean    4.411111\n",
      "std     0.970283\n",
      "min     1.000000\n",
      "25%     4.000000\n",
      "50%     5.000000\n",
      "75%     5.000000\n",
      "max     5.000000\n",
      "\n"
     ]
    }
   ],
   "source": [
    "resturentsList=['CaféSusubySuitsupply', 'Carmelinas', 'FogodeChão', 'KantipurCafe','Ostra', 'SaltieGirl','Tanám', 'Toro']\n",
    "\n",
    "\n",
    "for _ in resturentsList:\n",
    "    sql = pd.read_sql(f\"select rate from {_}\",conn)\n",
    "    df = pd.DataFrame(sql,columns = ['rate'])\n",
    "    print(_)\n",
    "    print(df.describe())\n",
    "    print()\n"
   ]
  },
  {
   "cell_type": "code",
   "execution_count": 31,
   "id": "c028b9ad",
   "metadata": {
    "scrolled": true
   },
   "outputs": [
    {
     "name": "stdout",
     "output_type": "stream",
     "text": [
      "rating distribution\n"
     ]
    },
    {
     "data": {
      "image/png": "[encoded data removed]",
      "text/plain": [
       "<Figure size 432x288 with 1 Axes>"
      ]
     },
     "metadata": {
      "needs_background": "light"
     },
     "output_type": "display_data"
    }
   ],
   "source": [
    "res_dic = {\"resturents\":['CaféSusubySuitsupply', 'Carmelinas', 'FogodeChão', 'KantipurCafe','Ostra', 'SaltieGirl','Tanám', 'Toro'],\"number of reviews\":[]}\n",
    "df = None\n",
    "for _ in resturentsList:\n",
    "    sql = pd.read_sql(f\"select rate from {_}\",conn)\n",
    "    df = pd.DataFrame(sql,columns = ['rate'])\n",
    "    res_dic[\"number of reviews\"].append(len(df.index))\n",
    "\n",
    "    \n",
    "name = res_dic[\"resturents\"]\n",
    "reviews =res_dic[\"number of reviews\"]\n",
    "\n",
    "df2 = pd.DataFrame(res_dic)\n",
    "\n",
    "print(\"rating distribution\")\n",
    "df2.set_index([\"resturents\"],inplace=True)\n",
    "df2.plot(kind='bar',alpha=0.75, rot=90)\n",
    "plt.xlabel(\"\")\n",
    "plt.show()\n",
    "    "
   ]
  },
  {
   "cell_type": "code",
   "execution_count": 61,
   "id": "8ae7377b",
   "metadata": {},
   "outputs": [
    {
     "data": {
      "image/png": "[encoded data removed]",
      "text/plain": [
       "<Figure size 432x288 with 1 Axes>"
      ]
     },
     "metadata": {
      "needs_background": "light"
     },
     "output_type": "display_data"
    },
    {
     "data": {
      "image/png": "[encoded data removed]",
      "text/plain": [
       "<Figure size 432x288 with 1 Axes>"
      ]
     },
     "metadata": {
      "needs_background": "light"
     },
     "output_type": "display_data"
    },
    {
     "data": {
      "image/png": "[encoded data removed]",
      "text/plain": [
       "<Figure size 432x288 with 1 Axes>"
      ]
     },
     "metadata": {
      "needs_background": "light"
     },
     "output_type": "display_data"
    },
    {
     "data": {
      "image/png": "[encoded data removed]",
      "text/plain": [
       "<Figure size 432x288 with 1 Axes>"
      ]
     },
     "metadata": {
      "needs_background": "light"
     },
     "output_type": "display_data"
    },
    {
     "data": {
      "image/png": "[encoded data removed]",
      "text/plain": [
       "<Figure size 432x288 with 1 Axes>"
      ]
     },
     "metadata": {
      "needs_background": "light"
     },
     "output_type": "display_data"
    },
    {
     "data": {
      "image/png": "[encoded data removed]",
      "text/plain": [
       "<Figure size 432x288 with 1 Axes>"
      ]
     },
     "metadata": {
      "needs_background": "light"
     },
     "output_type": "display_data"
    },
    {
     "data": {
      "image/png": "[encoded data removed]",
      "text/plain": [
       "<Figure size 432x288 with 1 Axes>"
      ]
     },
     "metadata": {
      "needs_background": "light"
     },
     "output_type": "display_data"
    },
    {
     "data": {
      "image/png": "[encoded data removed]",
      "text/plain": [
       "<Figure size 432x288 with 1 Axes>"
      ]
     },
     "metadata": {
      "needs_background": "light"
     },
     "output_type": "display_data"
    }
   ],
   "source": [
    "rating = {\"rating\":[1,2,3,4,5],\"rating count\":[0,0,0,0,0]}\n",
    "for _ in resturentsList:\n",
    "    sql = pd.read_sql(f\"select rate from {_}\",conn)\n",
    "    df = pd.DataFrame(sql,columns = ['rate'])\n",
    "    rc=df.value_counts()\n",
    "    rc.plot.bar(x=rc.head(),y=rc.values,title=f\"rate distribution of {_}\")\n",
    "    plt.show()"
   ]
  },
  {
   "cell_type": "code",
   "execution_count": null,
   "id": "b1c2613a",
   "metadata": {},
   "outputs": [],
   "source": []
  },
  {
   "cell_type": "code",
   "execution_count": null,
   "id": "0fe33d91",
   "metadata": {},
   "outputs": [],
   "source": []
  },
  {
   "cell_type": "code",
   "execution_count": null,
   "id": "a1b1f25c",
   "metadata": {},
   "outputs": [],
   "source": []
  },
  {
   "cell_type": "markdown",
   "id": "64033a47",
   "metadata": {},
   "source": [
    "# sentiment analyse"
   ]
  },
  {
   "cell_type": "code",
   "execution_count": 1,
   "id": "aff5796a",
   "metadata": {},
   "outputs": [],
   "source": [
    "import import_ipynb\n",
    "import re\n",
    "import string\n",
    "from textblob import TextBlob\n"
   ]
  },
  {
   "cell_type": "code",
   "execution_count": 2,
   "id": "698573f2",
   "metadata": {},
   "outputs": [],
   "source": [
    "\n",
    "\n",
    "\n"
   ]
  },
  {
   "cell_type": "code",
   "execution_count": 22,
   "id": "d53485cc",
   "metadata": {},
   "outputs": [],
   "source": [
    "\n",
    "def text_clean_1(text):\n",
    "    text = text.lower()\n",
    "    text = re.sub('\\[.*?\\]','',text)\n",
    "    text = re.sub('[%s]'%re.escape(string.punctuation),'',text)\n",
    "    text = re.sub('\\w*\\d\\w*','',text)\n",
    "    text = re.sub('\\n','',text)\n",
    "    return text\n",
    "\n",
    "cleaned1 = lambda x:text_clean_1(x)\n",
    "\n",
    "def word_count(text):\n",
    "    return (len(text.split(\" \")))\n",
    "    \n",
    "wordcount = lambda x:word_count(x)  \n",
    "\n",
    "\n",
    "def checkresponse(text):\n",
    "    blob = TextBlob(text)\n",
    "    sentiment = blob.sentiment.polarity\n",
    "    if sentiment >0:\n",
    "        return \"happy\"\n",
    "    \n",
    "    else:\n",
    "        return \"not happy\"\n",
    "\n",
    "response = lambda x: checkresponse(x)\n"
   ]
  },
  {
   "cell_type": "code",
   "execution_count": 23,
   "id": "cc3caea7",
   "metadata": {},
   "outputs": [],
   "source": [
    "def getResponse(tablename):\n",
    "    sql2 = pd.read_sql(f\"select review from {tablename} \",conn)\n",
    "    df4 = pd.DataFrame(sql2,columns = ['review'])\n",
    "    df4[\"cleanedreview\"] = pd.DataFrame(df4.review.apply(cleaned1))\n",
    "    \n",
    "    df4[\"word count\"] = pd.DataFrame(df4.cleanedreview.apply(wordcount))\n",
    "    df4[\"Response\"] = pd.DataFrame(df4.cleanedreview.apply(response))\n",
    "    return df4"
   ]
  },
  {
   "cell_type": "code",
   "execution_count": null,
   "id": "7d6d4cdf",
   "metadata": {},
   "outputs": [],
   "source": []
  },
  {
   "cell_type": "code",
   "execution_count": 24,
   "id": "98dee091",
   "metadata": {},
   "outputs": [
    {
     "data": {
      "text/html": [
       "<div>\n",
       "<style scoped>\n",
       "    .dataframe tbody tr th:only-of-type {\n",
       "        vertical-align: middle;\n",
       "    }\n",
       "\n",
       "    .dataframe tbody tr th {\n",
       "        vertical-align: top;\n",
       "    }\n",
       "\n",
       "    .dataframe thead th {\n",
       "        text-align: right;\n",
       "    }\n",
       "</style>\n",
       "<table border=\"1\" class=\"dataframe\">\n",
       "  <thead>\n",
       "    <tr style=\"text-align: right;\">\n",
       "      <th></th>\n",
       "      <th>review</th>\n",
       "      <th>cleanedreview</th>\n",
       "      <th>word count</th>\n",
       "      <th>Response</th>\n",
       "    </tr>\n",
       "  </thead>\n",
       "  <tbody>\n",
       "    <tr>\n",
       "      <th>0</th>\n",
       "      <td>Definitely a must visit. The food was excellen...</td>\n",
       "      <td>definitely a must visit the food was excellent...</td>\n",
       "      <td>15</td>\n",
       "      <td>happy</td>\n",
       "    </tr>\n",
       "    <tr>\n",
       "      <th>1</th>\n",
       "      <td>My friend who visits Boston a lot told me I ha...</td>\n",
       "      <td>my friend who visits boston a lot told me i ha...</td>\n",
       "      <td>72</td>\n",
       "      <td>happy</td>\n",
       "    </tr>\n",
       "    <tr>\n",
       "      <th>2</th>\n",
       "      <td>Solid portion of Sunday Macaroni with sausage,...</td>\n",
       "      <td>solid portion of sunday macaroni with sausage ...</td>\n",
       "      <td>81</td>\n",
       "      <td>happy</td>\n",
       "    </tr>\n",
       "    <tr>\n",
       "      <th>3</th>\n",
       "      <td>Small family owned restaurant that you definit...</td>\n",
       "      <td>small family owned restaurant that you definit...</td>\n",
       "      <td>98</td>\n",
       "      <td>happy</td>\n",
       "    </tr>\n",
       "    <tr>\n",
       "      <th>4</th>\n",
       "      <td>I wish I could have packed the restaurant up a...</td>\n",
       "      <td>i wish i could have packed the restaurant up a...</td>\n",
       "      <td>58</td>\n",
       "      <td>happy</td>\n",
       "    </tr>\n",
       "    <tr>\n",
       "      <th>5</th>\n",
       "      <td>Was quite excited about this restaurant since ...</td>\n",
       "      <td>was quite excited about this restaurant since ...</td>\n",
       "      <td>109</td>\n",
       "      <td>happy</td>\n",
       "    </tr>\n",
       "    <tr>\n",
       "      <th>6</th>\n",
       "      <td>Highly recommend. I have been trying the top I...</td>\n",
       "      <td>highly recommend i have been trying the top it...</td>\n",
       "      <td>58</td>\n",
       "      <td>happy</td>\n",
       "    </tr>\n",
       "    <tr>\n",
       "      <th>7</th>\n",
       "      <td>I've been trying to come to Carmelina's for AG...</td>\n",
       "      <td>ive been trying to come to carmelinas for ages...</td>\n",
       "      <td>362</td>\n",
       "      <td>happy</td>\n",
       "    </tr>\n",
       "    <tr>\n",
       "      <th>8</th>\n",
       "      <td>AMAZING ITALIAN FOOD AND WINE\\n===============...</td>\n",
       "      <td>amazing italian food and winethe tourists aka ...</td>\n",
       "      <td>140</td>\n",
       "      <td>happy</td>\n",
       "    </tr>\n",
       "    <tr>\n",
       "      <th>9</th>\n",
       "      <td>Food was absolutely delicious!! It was perhaps...</td>\n",
       "      <td>food was absolutely delicious it was perhaps s...</td>\n",
       "      <td>165</td>\n",
       "      <td>happy</td>\n",
       "    </tr>\n",
       "  </tbody>\n",
       "</table>\n",
       "</div>"
      ],
      "text/plain": [
       "                                              review  \\\n",
       "0  Definitely a must visit. The food was excellen...   \n",
       "1  My friend who visits Boston a lot told me I ha...   \n",
       "2  Solid portion of Sunday Macaroni with sausage,...   \n",
       "3  Small family owned restaurant that you definit...   \n",
       "4  I wish I could have packed the restaurant up a...   \n",
       "5  Was quite excited about this restaurant since ...   \n",
       "6  Highly recommend. I have been trying the top I...   \n",
       "7  I've been trying to come to Carmelina's for AG...   \n",
       "8  AMAZING ITALIAN FOOD AND WINE\\n===============...   \n",
       "9  Food was absolutely delicious!! It was perhaps...   \n",
       "\n",
       "                                       cleanedreview  word count Response  \n",
       "0  definitely a must visit the food was excellent...          15    happy  \n",
       "1  my friend who visits boston a lot told me i ha...          72    happy  \n",
       "2  solid portion of sunday macaroni with sausage ...          81    happy  \n",
       "3  small family owned restaurant that you definit...          98    happy  \n",
       "4  i wish i could have packed the restaurant up a...          58    happy  \n",
       "5  was quite excited about this restaurant since ...         109    happy  \n",
       "6  highly recommend i have been trying the top it...          58    happy  \n",
       "7  ive been trying to come to carmelinas for ages...         362    happy  \n",
       "8  amazing italian food and winethe tourists aka ...         140    happy  \n",
       "9  food was absolutely delicious it was perhaps s...         165    happy  "
      ]
     },
     "execution_count": 24,
     "metadata": {},
     "output_type": "execute_result"
    }
   ],
   "source": [
    "ls=getResponse(resturentsList[1])\n",
    "ls"
   ]
  },
  {
   "cell_type": "code",
   "execution_count": 26,
   "id": "275a470b",
   "metadata": {},
   "outputs": [
    {
     "data": {
      "image/png": "[encoded data removed]",
      "text/plain": [
       "<Figure size 432x288 with 1 Axes>"
      ]
     },
     "metadata": {
      "needs_background": "light"
     },
     "output_type": "display_data"
    }
   ],
   "source": [
    "%matplotlib inline\n",
    "\n",
    "round(ls.Response.value_counts(normalize=True)*100,2).plot(kind='bar')\n",
    "plt.title(\"Precentage distribution by review type\")\n",
    "plt.show()"
   ]
  },
  {
   "cell_type": "code",
   "execution_count": 2,
   "id": "d971efe1",
   "metadata": {},
   "outputs": [
    {
     "ename": "NameError",
     "evalue": "name 'pd' is not defined",
     "output_type": "error",
     "traceback": [
      "\u001b[1;31m---------------------------------------------------------------------------\u001b[0m",
      "\u001b[1;31mNameError\u001b[0m                                 Traceback (most recent call last)",
      "\u001b[1;32m<ipython-input-2-a3ba3ef1c0e7>\u001b[0m in \u001b[0;36m<module>\u001b[1;34m\u001b[0m\n\u001b[1;32m----> 1\u001b[1;33m \u001b[0mdf4\u001b[0m\u001b[1;33m[\u001b[0m\u001b[1;34m\"response\"\u001b[0m\u001b[1;33m]\u001b[0m \u001b[1;33m=\u001b[0m \u001b[0mpd\u001b[0m\u001b[1;33m.\u001b[0m\u001b[0mDataFrame\u001b[0m\u001b[1;33m(\u001b[0m\u001b[0mdf4\u001b[0m\u001b[1;33m.\u001b[0m\u001b[0mreview\u001b[0m\u001b[1;33m.\u001b[0m\u001b[0mapply\u001b[0m\u001b[1;33m(\u001b[0m\u001b[0mresponse\u001b[0m\u001b[1;33m)\u001b[0m\u001b[1;33m)\u001b[0m\u001b[1;33m\u001b[0m\u001b[1;33m\u001b[0m\u001b[0m\n\u001b[0m\u001b[0;32m      2\u001b[0m \u001b[0mdf4\u001b[0m\u001b[1;33m.\u001b[0m\u001b[0mhead\u001b[0m\u001b[1;33m(\u001b[0m\u001b[1;36m10\u001b[0m\u001b[1;33m)\u001b[0m\u001b[1;33m\u001b[0m\u001b[1;33m\u001b[0m\u001b[0m\n",
      "\u001b[1;31mNameError\u001b[0m: name 'pd' is not defined"
     ]
    }
   ],
   "source": []
  },
  {
   "cell_type": "code",
   "execution_count": null,
   "id": "7681d5bb",
   "metadata": {},
   "outputs": [],
   "source": []
  },
  {
   "cell_type": "code",
   "execution_count": null,
   "id": "7d44c4d2",
   "metadata": {},
   "outputs": [],
   "source": [
    "\n"
   ]
  },
  {
   "cell_type": "code",
   "execution_count": null,
   "id": "9d19e974",
   "metadata": {},
   "outputs": [],
   "source": []
  },
  {
   "cell_type": "code",
   "execution_count": null,
   "id": "f1468c44",
   "metadata": {},
   "outputs": [],
   "source": []
  },
  {
   "cell_type": "code",
   "execution_count": null,
   "id": "61d2204d",
   "metadata": {},
   "outputs": [],
   "source": []
  },
  {
   "cell_type": "code",
   "execution_count": null,
   "id": "45aa319c",
   "metadata": {},
   "outputs": [],
   "source": []
  },
  {
   "cell_type": "markdown",
   "id": "810d2b2a",
   "metadata": {},
   "source": [
    "# Regression"
   ]
  },
  {
   "cell_type": "code",
   "execution_count": 40,
   "id": "e9875192",
   "metadata": {},
   "outputs": [],
   "source": [
    "from sklearn.linear_model import LinearRegression"
   ]
  },
  {
   "cell_type": "code",
   "execution_count": 41,
   "id": "67f231c8",
   "metadata": {},
   "outputs": [
    {
     "data": {
      "text/plain": [
       "Text(0, 0.5, 'number of positive reviews')"
      ]
     },
     "execution_count": 41,
     "metadata": {},
     "output_type": "execute_result"
    },
    {
     "data": {
      "image/png": "[encoded data removed]",
      "text/plain": [
       "<Figure size 432x288 with 1 Axes>"
      ]
     },
     "metadata": {
      "needs_background": "light"
     },
     "output_type": "display_data"
    }
   ],
   "source": [
    "dic = {\"resturents\":['CaféSusubySuitsupply', 'Carmelinas', 'FogodeChão', 'KantipurCafe','Ostra', 'SaltieGirl','Tanám', 'Toro'],\n",
    "       \"posrc\":[],\n",
    "      \"number of reviews\":reviews}\n",
    "\n",
    "for _ in resturentsList:\n",
    "    df5 = getResponse(_)\n",
    "    dic[\"posrc\"].append(df5[\"Response\"].value_counts()['happy'])\n",
    "    \n",
    "    \n",
    "\n",
    "plt.scatter(dic[\"number of reviews\"],dic[\"posrc\"],color=\"red\")\n",
    "plt.xlabel(\"number of reviews\")\n",
    "plt.ylabel(\"number of positive reviews\")\n",
    "\n",
    "    \n",
    "    \n",
    "\n",
    "\n",
    "\n",
    "\n"
   ]
  },
  {
   "cell_type": "code",
   "execution_count": 36,
   "id": "70bc92a3",
   "metadata": {},
   "outputs": [
    {
     "data": {
      "text/plain": [
       "array([40, 10, 60, 20, 50, 80, 30, 90])"
      ]
     },
     "execution_count": 36,
     "metadata": {},
     "output_type": "execute_result"
    }
   ],
   "source": [
    "x = np.array(dic[\"number of reviews\"])\n",
    "x"
   ]
  },
  {
   "cell_type": "code",
   "execution_count": 38,
   "id": "d1849cf9",
   "metadata": {},
   "outputs": [
    {
     "data": {
      "text/plain": [
       "array([37, 10, 57, 19, 47, 76, 28, 85], dtype=int64)"
      ]
     },
     "execution_count": 38,
     "metadata": {},
     "output_type": "execute_result"
    }
   ],
   "source": [
    "y = np.array(dic[\"posrc\"])\n",
    "y"
   ]
  },
  {
   "cell_type": "code",
   "execution_count": 43,
   "id": "814da7fa",
   "metadata": {},
   "outputs": [
    {
     "data": {
      "text/plain": [
       "LinearRegression()"
      ]
     },
     "execution_count": 43,
     "metadata": {},
     "output_type": "execute_result"
    }
   ],
   "source": [
    "model = LinearRegression()\n",
    "model.fit(x.reshape(-1,1),y)\n"
   ]
  },
  {
   "cell_type": "code",
   "execution_count": 44,
   "id": "7d2012ed",
   "metadata": {},
   "outputs": [
    {
     "data": {
      "text/plain": [
       "array([[2000]])"
      ]
     },
     "execution_count": 44,
     "metadata": {},
     "output_type": "execute_result"
    }
   ],
   "source": [
    "new_x = np.array([2000]).reshape((-1,1))\n",
    "new_x"
   ]
  },
  {
   "cell_type": "code",
   "execution_count": 46,
   "id": "65666635",
   "metadata": {},
   "outputs": [
    {
     "data": {
      "text/plain": [
       "array([1890.95495495])"
      ]
     },
     "execution_count": 46,
     "metadata": {},
     "output_type": "execute_result"
    }
   ],
   "source": [
    "pred = model.predict(new_x)\n",
    "pred"
   ]
  },
  {
   "cell_type": "code",
   "execution_count": 48,
   "id": "966fa548",
   "metadata": {},
   "outputs": [
    {
     "ename": "AttributeError",
     "evalue": "module 'numpy' has no attribute 'ployfit'",
     "output_type": "error",
     "traceback": [
      "\u001b[1;31m---------------------------------------------------------------------------\u001b[0m",
      "\u001b[1;31mAttributeError\u001b[0m                            Traceback (most recent call last)",
      "\u001b[1;32m<ipython-input-48-431b66bfb4e2>\u001b[0m in \u001b[0;36m<module>\u001b[1;34m\u001b[0m\n\u001b[0;32m      1\u001b[0m \u001b[0mplt\u001b[0m\u001b[1;33m.\u001b[0m\u001b[0mscatter\u001b[0m\u001b[1;33m(\u001b[0m\u001b[0mdic\u001b[0m\u001b[1;33m[\u001b[0m\u001b[1;34m\"number of reviews\"\u001b[0m\u001b[1;33m]\u001b[0m\u001b[1;33m,\u001b[0m\u001b[0mdic\u001b[0m\u001b[1;33m[\u001b[0m\u001b[1;34m\"posrc\"\u001b[0m\u001b[1;33m]\u001b[0m\u001b[1;33m,\u001b[0m\u001b[0mcolor\u001b[0m\u001b[1;33m=\u001b[0m\u001b[1;34m\"red\"\u001b[0m\u001b[1;33m)\u001b[0m\u001b[1;33m\u001b[0m\u001b[1;33m\u001b[0m\u001b[0m\n\u001b[1;32m----> 2\u001b[1;33m \u001b[0mm\u001b[0m\u001b[1;33m,\u001b[0m\u001b[0mc\u001b[0m \u001b[1;33m=\u001b[0m \u001b[0mnp\u001b[0m\u001b[1;33m.\u001b[0m\u001b[0mployfit\u001b[0m\u001b[1;33m(\u001b[0m\u001b[0mx\u001b[0m\u001b[1;33m,\u001b[0m\u001b[0my\u001b[0m\u001b[1;33m,\u001b[0m\u001b[1;36m1\u001b[0m\u001b[1;33m)\u001b[0m\u001b[1;33m\u001b[0m\u001b[1;33m\u001b[0m\u001b[0m\n\u001b[0m\u001b[0;32m      3\u001b[0m \u001b[0mplt\u001b[0m\u001b[1;33m.\u001b[0m\u001b[0mplot\u001b[0m\u001b[1;33m(\u001b[0m\u001b[0mx\u001b[0m\u001b[1;33m,\u001b[0m\u001b[0mm\u001b[0m\u001b[1;33m*\u001b[0m\u001b[0mx\u001b[0m\u001b[1;33m+\u001b[0m\u001b[0mc\u001b[0m\u001b[1;33m)\u001b[0m\u001b[1;33m\u001b[0m\u001b[1;33m\u001b[0m\u001b[0m\n",
      "\u001b[1;32m~\\anaconda3\\lib\\site-packages\\numpy\\__init__.py\u001b[0m in \u001b[0;36m__getattr__\u001b[1;34m(attr)\u001b[0m\n\u001b[0;32m    301\u001b[0m                 \u001b[1;32mreturn\u001b[0m \u001b[0mTester\u001b[0m\u001b[1;33m\u001b[0m\u001b[1;33m\u001b[0m\u001b[0m\n\u001b[0;32m    302\u001b[0m \u001b[1;33m\u001b[0m\u001b[0m\n\u001b[1;32m--> 303\u001b[1;33m             raise AttributeError(\"module {!r} has no attribute \"\n\u001b[0m\u001b[0;32m    304\u001b[0m                                  \"{!r}\".format(__name__, attr))\n\u001b[0;32m    305\u001b[0m \u001b[1;33m\u001b[0m\u001b[0m\n",
      "\u001b[1;31mAttributeError\u001b[0m: module 'numpy' has no attribute 'ployfit'"
     ]
    },
    {
     "data": {
      "image/png": "[encoded data removed]",
      "text/plain": [
       "<Figure size 432x288 with 1 Axes>"
      ]
     },
     "metadata": {
      "needs_background": "light"
     },
     "output_type": "display_data"
    }
   ],
   "source": [
    "plt.scatter(dic[\"number of reviews\"],dic[\"posrc\"],color=\"red\")\n",
    "m,c = np.ployfit(x,y,1)\n",
    "plt.plot(x,m*x+c)"
   ]
  },
  {
   "cell_type": "code",
   "execution_count": null,
   "id": "3da79018",
   "metadata": {},
   "outputs": [],
   "source": []
  }
 ],
 "metadata": {
  "kernelspec": {
   "display_name": "Python 3",
   "language": "python",
   "name": "python3"
  },
  "language_info": {
   "codemirror_mode": {
    "name": "ipython",
    "version": 3
   },
   "file_extension": ".py",
   "mimetype": "text/x-python",
   "name": "python",
   "nbconvert_exporter": "python",
   "pygments_lexer": "ipython3",
   "version": "3.8.8"
  }
 },
 "nbformat": 4,
 "nbformat_minor": 5
}
